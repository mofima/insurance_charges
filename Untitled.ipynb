{
 "cells": [
  {
   "cell_type": "code",
   "execution_count": 30,
   "id": "299b9c89",
   "metadata": {},
   "outputs": [],
   "source": [
    "from sklearn.model_selection import RandomizedSearchCV\n",
    "from sklearn.preprocessing import StandardScaler\n",
    "# ^^^ pyforest auto-imports - don't write above this line\n",
    "import pyforest\n",
    "import numpy as np\n",
    "import pandas as pd\n",
    "import matplotlib.pyplot as plt\n",
    "import seaborn as sns\n",
    "from sklearn.ensemble import RandomForestRegressor\n",
    "from sklearn.linear_model import RidgeCV\n",
    "from sklearn.compose import ColumnTransformer\n",
    "from sklearn.pipeline import make_pipeline,Pipeline\n",
    "from sklearn.model_selection import ShuffleSplit,cross_val_score,cross_validate\n",
    "from sklearn.preprocessing import OrdinalEncoder,OneHotEncoder"
   ]
  },
  {
   "cell_type": "code",
   "execution_count": 2,
   "id": "205ecf7e",
   "metadata": {},
   "outputs": [
    {
     "data": {
      "text/html": [
       "<div>\n",
       "<style scoped>\n",
       "    .dataframe tbody tr th:only-of-type {\n",
       "        vertical-align: middle;\n",
       "    }\n",
       "\n",
       "    .dataframe tbody tr th {\n",
       "        vertical-align: top;\n",
       "    }\n",
       "\n",
       "    .dataframe thead th {\n",
       "        text-align: right;\n",
       "    }\n",
       "</style>\n",
       "<table border=\"1\" class=\"dataframe\">\n",
       "  <thead>\n",
       "    <tr style=\"text-align: right;\">\n",
       "      <th></th>\n",
       "      <th>age</th>\n",
       "      <th>sex</th>\n",
       "      <th>bmi</th>\n",
       "      <th>children</th>\n",
       "      <th>smoker</th>\n",
       "      <th>region</th>\n",
       "      <th>charges</th>\n",
       "    </tr>\n",
       "  </thead>\n",
       "  <tbody>\n",
       "    <tr>\n",
       "      <th>0</th>\n",
       "      <td>19</td>\n",
       "      <td>female</td>\n",
       "      <td>27.900</td>\n",
       "      <td>0</td>\n",
       "      <td>yes</td>\n",
       "      <td>southwest</td>\n",
       "      <td>16884.92400</td>\n",
       "    </tr>\n",
       "    <tr>\n",
       "      <th>1</th>\n",
       "      <td>18</td>\n",
       "      <td>male</td>\n",
       "      <td>33.770</td>\n",
       "      <td>1</td>\n",
       "      <td>no</td>\n",
       "      <td>southeast</td>\n",
       "      <td>1725.55230</td>\n",
       "    </tr>\n",
       "    <tr>\n",
       "      <th>2</th>\n",
       "      <td>28</td>\n",
       "      <td>male</td>\n",
       "      <td>33.000</td>\n",
       "      <td>3</td>\n",
       "      <td>no</td>\n",
       "      <td>southeast</td>\n",
       "      <td>4449.46200</td>\n",
       "    </tr>\n",
       "    <tr>\n",
       "      <th>3</th>\n",
       "      <td>33</td>\n",
       "      <td>male</td>\n",
       "      <td>22.705</td>\n",
       "      <td>0</td>\n",
       "      <td>no</td>\n",
       "      <td>northwest</td>\n",
       "      <td>21984.47061</td>\n",
       "    </tr>\n",
       "    <tr>\n",
       "      <th>4</th>\n",
       "      <td>32</td>\n",
       "      <td>male</td>\n",
       "      <td>28.880</td>\n",
       "      <td>0</td>\n",
       "      <td>no</td>\n",
       "      <td>northwest</td>\n",
       "      <td>3866.85520</td>\n",
       "    </tr>\n",
       "  </tbody>\n",
       "</table>\n",
       "</div>"
      ],
      "text/plain": [
       "   age     sex     bmi  children smoker     region      charges\n",
       "0   19  female  27.900         0    yes  southwest  16884.92400\n",
       "1   18    male  33.770         1     no  southeast   1725.55230\n",
       "2   28    male  33.000         3     no  southeast   4449.46200\n",
       "3   33    male  22.705         0     no  northwest  21984.47061\n",
       "4   32    male  28.880         0     no  northwest   3866.85520"
      ]
     },
     "execution_count": 2,
     "metadata": {},
     "output_type": "execute_result"
    }
   ],
   "source": [
    "data = pd.read_csv('insurance.csv')\n",
    "data.head()"
   ]
  },
  {
   "cell_type": "code",
   "execution_count": 3,
   "id": "a7d8ae8a",
   "metadata": {},
   "outputs": [
    {
     "name": "stdout",
     "output_type": "stream",
     "text": [
      "<class 'pandas.core.frame.DataFrame'>\n",
      "RangeIndex: 1338 entries, 0 to 1337\n",
      "Data columns (total 7 columns):\n",
      " #   Column    Non-Null Count  Dtype  \n",
      "---  ------    --------------  -----  \n",
      " 0   age       1338 non-null   int64  \n",
      " 1   sex       1338 non-null   object \n",
      " 2   bmi       1338 non-null   float64\n",
      " 3   children  1338 non-null   int64  \n",
      " 4   smoker    1338 non-null   object \n",
      " 5   region    1338 non-null   object \n",
      " 6   charges   1338 non-null   float64\n",
      "dtypes: float64(2), int64(2), object(3)\n",
      "memory usage: 73.3+ KB\n"
     ]
    }
   ],
   "source": [
    "data.info()"
   ]
  },
  {
   "cell_type": "code",
   "execution_count": 4,
   "id": "ba1cf9b8",
   "metadata": {},
   "outputs": [
    {
     "data": {
      "text/plain": [
       "(18, 64)"
      ]
     },
     "execution_count": 4,
     "metadata": {},
     "output_type": "execute_result"
    }
   ],
   "source": [
    "data['age'].min(), data['age'].max()"
   ]
  },
  {
   "cell_type": "code",
   "execution_count": 5,
   "id": "b78b4670",
   "metadata": {},
   "outputs": [
    {
     "data": {
      "text/plain": [
       "array([19, 18, 28, 33, 32, 31, 46, 37, 60, 25, 62, 23, 56, 27, 52, 30, 34,\n",
       "       59, 63, 55, 22, 26, 35, 24, 41, 38, 36, 21, 48, 40, 58, 53, 43, 64,\n",
       "       20, 61, 44, 57, 29, 45, 54, 49, 47, 51, 42, 50, 39], dtype=int64)"
      ]
     },
     "execution_count": 5,
     "metadata": {},
     "output_type": "execute_result"
    }
   ],
   "source": [
    "data['age'].unique()"
   ]
  },
  {
   "cell_type": "code",
   "execution_count": 6,
   "id": "ffa2768a",
   "metadata": {},
   "outputs": [
    {
     "data": {
      "text/plain": [
       "<AxesSubplot:>"
      ]
     },
     "execution_count": 6,
     "metadata": {},
     "output_type": "execute_result"
    },
    {
     "data": {
      "image/png": "[encoded data removed]",
      "text/plain": [
       "<Figure size 432x288 with 1 Axes>"
      ]
     },
     "metadata": {
      "needs_background": "light"
     },
     "output_type": "display_data"
    }
   ],
   "source": [
    "data.children.value_counts().plot.bar()"
   ]
  },
  {
   "cell_type": "code",
   "execution_count": 7,
   "id": "a6287eef",
   "metadata": {},
   "outputs": [
    {
     "data": {
      "text/plain": [
       "<AxesSubplot:>"
      ]
     },
     "execution_count": 7,
     "metadata": {},
     "output_type": "execute_result"
    },
    {
     "data": {
      "image/png": "[encoded data removed]",
      "text/plain": [
       "<Figure size 432x288 with 1 Axes>"
      ]
     },
     "metadata": {
      "needs_background": "light"
     },
     "output_type": "display_data"
    }
   ],
   "source": [
    "data.sex.value_counts().plot.bar()"
   ]
  },
  {
   "cell_type": "code",
   "execution_count": 8,
   "id": "de297db6",
   "metadata": {},
   "outputs": [
    {
     "data": {
      "text/plain": [
       "<AxesSubplot:>"
      ]
     },
     "execution_count": 8,
     "metadata": {},
     "output_type": "execute_result"
    },
    {
     "data": {
      "image/png": "[encoded data removed]",
      "text/plain": [
       "<Figure size 432x288 with 1 Axes>"
      ]
     },
     "metadata": {
      "needs_background": "light"
     },
     "output_type": "display_data"
    }
   ],
   "source": [
    "data.smoker.value_counts().plot.bar()"
   ]
  },
  {
   "cell_type": "code",
   "execution_count": 9,
   "id": "37425c29",
   "metadata": {},
   "outputs": [
    {
     "data": {
      "text/plain": [
       "<AxesSubplot:>"
      ]
     },
     "execution_count": 9,
     "metadata": {},
     "output_type": "execute_result"
    },
    {
     "data": {
      "image/png": "[encoded data removed]",
      "text/plain": [
       "<Figure size 432x288 with 1 Axes>"
      ]
     },
     "metadata": {
      "needs_background": "light"
     },
     "output_type": "display_data"
    }
   ],
   "source": [
    "data.region.value_counts().plot.bar()"
   ]
  },
  {
   "cell_type": "code",
   "execution_count": 10,
   "id": "ab495153",
   "metadata": {},
   "outputs": [
    {
     "name": "stderr",
     "output_type": "stream",
     "text": [
      "C:\\Users\\Sophisticate\\anaconda3\\lib\\site-packages\\seaborn\\categorical.py:1296: UserWarning: 67.3% of the points cannot be placed; you may want to decrease the size of the markers or use stripplot.\n",
      "  warnings.warn(msg, UserWarning)\n"
     ]
    },
    {
     "data": {
      "text/plain": [
       "<AxesSubplot:xlabel='smoker', ylabel='charges'>"
      ]
     },
     "execution_count": 10,
     "metadata": {},
     "output_type": "execute_result"
    },
    {
     "data": {
      "image/png": "[encoded data removed]",
      "text/plain": [
       "<Figure size 432x288 with 1 Axes>"
      ]
     },
     "metadata": {
      "needs_background": "light"
     },
     "output_type": "display_data"
    }
   ],
   "source": [
    "sns.swarmplot(x=data['smoker'], y=data['charges'])\n"
   ]
  },
  {
   "cell_type": "code",
   "execution_count": 11,
   "id": "0f52140e",
   "metadata": {},
   "outputs": [
    {
     "data": {
      "text/plain": [
       "age           int64\n",
       "sex          object\n",
       "bmi         float64\n",
       "children      int64\n",
       "smoker       object\n",
       "region       object\n",
       "charges     float64\n",
       "dtype: object"
      ]
     },
     "execution_count": 11,
     "metadata": {},
     "output_type": "execute_result"
    }
   ],
   "source": [
    "data.dtypes"
   ]
  },
  {
   "cell_type": "code",
   "execution_count": 12,
   "id": "e46c22b2",
   "metadata": {},
   "outputs": [],
   "source": [
    "target = data['charges']\n",
    "data = data.drop('charges', axis=1)"
   ]
  },
  {
   "cell_type": "code",
   "execution_count": 13,
   "id": "aba9c12d",
   "metadata": {},
   "outputs": [
    {
     "data": {
      "application/javascript": [
       "\n",
       "        if (window._pyforest_update_imports_cell) { window._pyforest_update_imports_cell('from sklearn.preprocessing import StandardScaler'); }\n",
       "    "
      ],
      "text/plain": [
       "<IPython.core.display.Javascript object>"
      ]
     },
     "metadata": {},
     "output_type": "display_data"
    }
   ],
   "source": [
    "cat_cols = ['sex','smoker','region']\n",
    "num_cols = ['age','bmi']\n",
    "\n",
    "cat_preprocessor = OneHotEncoder(handle_unknown='ignore')\n",
    "num_preprocessor = StandardScaler()\n",
    "\n",
    "preprocessor = ColumnTransformer([\n",
    "               ('one_hot', cat_preprocessor, cat_cols),\n",
    "               ('std_scaler', num_preprocessor, num_cols)\n",
    "])"
   ]
  },
  {
   "cell_type": "code",
   "execution_count": 14,
   "id": "69434fe9",
   "metadata": {},
   "outputs": [
    {
     "data": {
      "text/plain": [
       "4120.756428970477"
      ]
     },
     "execution_count": 14,
     "metadata": {},
     "output_type": "execute_result"
    }
   ],
   "source": [
    "alphas = np.logspace(-2,0,num=20)\n",
    "model = make_pipeline(preprocessor, RidgeCV(alphas=alphas))\n",
    "\n",
    "cv = ShuffleSplit(n_splits=10, random_state=1)\n",
    "cv_result = cross_val_score(model,data,target,cv=cv,scoring='neg_mean_absolute_error',n_jobs=2)\n",
    "\n",
    "mae = -cv_result.mean()\n",
    "mae"
   ]
  },
  {
   "cell_type": "code",
   "execution_count": 22,
   "id": "ef185fed",
   "metadata": {},
   "outputs": [
    {
     "data": {
      "text/plain": [
       "2814.549672311291"
      ]
     },
     "execution_count": 22,
     "metadata": {},
     "output_type": "execute_result"
    }
   ],
   "source": [
    "cat_pre2 = OrdinalEncoder(handle_unknown='use_encoded_value', unknown_value=-1)\n",
    "preprocessor2 = ColumnTransformer([('ord_enc', cat_pre2, cat_cols)], remainder='passthrough')\n",
    "\n",
    "model2 = Pipeline([\n",
    "          ('preprocessor', preprocessor2),\n",
    "          ('regressor', RandomForestRegressor(random_state=1, n_jobs=2))])\n",
    "\n",
    "cv_result2 = cross_val_score(model2, data, target, cv=cv, scoring='neg_mean_absolute_error', n_jobs=2)\n",
    "mae = -cv_result2.mean()\n",
    "mae"
   ]
  },
  {
   "cell_type": "code",
   "execution_count": 20,
   "id": "dac57c6a",
   "metadata": {},
   "outputs": [
    {
     "data": {
      "text/plain": [
       "{'memory': None,\n",
       " 'steps': [('preprocessor',\n",
       "   ColumnTransformer(remainder='passthrough',\n",
       "                     transformers=[('ord_enc',\n",
       "                                    OrdinalEncoder(handle_unknown='use_encoded_value',\n",
       "                                                   unknown_value=-1),\n",
       "                                    ['sex', 'smoker', 'region'])])),\n",
       "  ('regressor', RandomForestRegressor())],\n",
       " 'verbose': False,\n",
       " 'preprocessor': ColumnTransformer(remainder='passthrough',\n",
       "                   transformers=[('ord_enc',\n",
       "                                  OrdinalEncoder(handle_unknown='use_encoded_value',\n",
       "                                                 unknown_value=-1),\n",
       "                                  ['sex', 'smoker', 'region'])]),\n",
       " 'regressor': RandomForestRegressor(),\n",
       " 'preprocessor__n_jobs': None,\n",
       " 'preprocessor__remainder': 'passthrough',\n",
       " 'preprocessor__sparse_threshold': 0.3,\n",
       " 'preprocessor__transformer_weights': None,\n",
       " 'preprocessor__transformers': [('ord_enc',\n",
       "   OrdinalEncoder(handle_unknown='use_encoded_value', unknown_value=-1),\n",
       "   ['sex', 'smoker', 'region'])],\n",
       " 'preprocessor__verbose': False,\n",
       " 'preprocessor__ord_enc': OrdinalEncoder(handle_unknown='use_encoded_value', unknown_value=-1),\n",
       " 'preprocessor__ord_enc__categories': 'auto',\n",
       " 'preprocessor__ord_enc__dtype': numpy.float64,\n",
       " 'preprocessor__ord_enc__handle_unknown': 'use_encoded_value',\n",
       " 'preprocessor__ord_enc__unknown_value': -1,\n",
       " 'regressor__bootstrap': True,\n",
       " 'regressor__ccp_alpha': 0.0,\n",
       " 'regressor__criterion': 'mse',\n",
       " 'regressor__max_depth': None,\n",
       " 'regressor__max_features': 'auto',\n",
       " 'regressor__max_leaf_nodes': None,\n",
       " 'regressor__max_samples': None,\n",
       " 'regressor__min_impurity_decrease': 0.0,\n",
       " 'regressor__min_impurity_split': None,\n",
       " 'regressor__min_samples_leaf': 1,\n",
       " 'regressor__min_samples_split': 2,\n",
       " 'regressor__min_weight_fraction_leaf': 0.0,\n",
       " 'regressor__n_estimators': 100,\n",
       " 'regressor__n_jobs': None,\n",
       " 'regressor__oob_score': False,\n",
       " 'regressor__random_state': None,\n",
       " 'regressor__verbose': 0,\n",
       " 'regressor__warm_start': False}"
      ]
     },
     "execution_count": 20,
     "metadata": {},
     "output_type": "execute_result"
    }
   ],
   "source": [
    "model2.get_params()"
   ]
  },
  {
   "cell_type": "code",
   "execution_count": 38,
   "id": "75b83ff0",
   "metadata": {},
   "outputs": [
    {
     "data": {
      "text/plain": [
       "2790.116528465788"
      ]
     },
     "execution_count": 38,
     "metadata": {},
     "output_type": "execute_result"
    }
   ],
   "source": [
    "param_grid = {'regressor__n_estimators':[int(x) for x in np.linspace(start=100, stop=1200, num=12)],\n",
    "             'regressor__max_depth':np.arange(2,100)}\n",
    "\n",
    "randcv = RandomizedSearchCV(model2, param_distributions=param_grid, scoring='neg_mean_absolute_error', cv=5, random_state=1, n_jobs=2)\n",
    "\n",
    "cv_results3 = cross_validate(randcv, data, target, cv=cv, scoring='neg_mean_absolute_error', return_estimator=True, n_jobs=2)\n",
    "mae = -cv_results3['test_score'].mean()\n",
    "mae"
   ]
  },
  {
   "cell_type": "code",
   "execution_count": 39,
   "id": "ff515818",
   "metadata": {},
   "outputs": [
    {
     "data": {
      "text/plain": [
       "[{'regressor__n_estimators': 1000, 'regressor__max_depth': 12},\n",
       " {'regressor__n_estimators': 100, 'regressor__max_depth': 82},\n",
       " {'regressor__n_estimators': 1000, 'regressor__max_depth': 12},\n",
       " {'regressor__n_estimators': 500, 'regressor__max_depth': 93},\n",
       " {'regressor__n_estimators': 1000, 'regressor__max_depth': 12},\n",
       " {'regressor__n_estimators': 1000, 'regressor__max_depth': 12},\n",
       " {'regressor__n_estimators': 100, 'regressor__max_depth': 14},\n",
       " {'regressor__n_estimators': 100, 'regressor__max_depth': 82},\n",
       " {'regressor__n_estimators': 100, 'regressor__max_depth': 14},\n",
       " {'regressor__n_estimators': 800, 'regressor__max_depth': 21}]"
      ]
     },
     "execution_count": 39,
     "metadata": {},
     "output_type": "execute_result"
    }
   ],
   "source": [
    "best_params = [est.best_params_ for est in cv_results3['estimator']]\n",
    "best_params"
   ]
  },
  {
   "cell_type": "code",
   "execution_count": 42,
   "id": "444e38ba",
   "metadata": {},
   "outputs": [
    {
     "data": {
      "text/plain": [
       "[-2746.010619517467,\n",
       " -2705.568502483254,\n",
       " -2479.651485895066,\n",
       " -2662.025866371504,\n",
       " -2745.3804777126807,\n",
       " -2622.852160964238,\n",
       " -2639.3341123047403,\n",
       " -2630.5577303373857,\n",
       " -2718.4886679043884,\n",
       " -2695.3110314799974]"
      ]
     },
     "execution_count": 42,
     "metadata": {},
     "output_type": "execute_result"
    }
   ],
   "source": [
    "best_score = [est.best_score_ for est in cv_results3['estimator']]\n",
    "best_score"
   ]
  },
  {
   "cell_type": "code",
   "execution_count": null,
   "id": "a8f6fc75",
   "metadata": {},
   "outputs": [],
   "source": []
  }
 ],
 "metadata": {
  "kernelspec": {
   "display_name": "Python 3",
   "language": "python",
   "name": "python3"
  },
  "language_info": {
   "codemirror_mode": {
    "name": "ipython",
    "version": 3
   },
   "file_extension": ".py",
   "mimetype": "text/x-python",
   "name": "python",
   "nbconvert_exporter": "python",
   "pygments_lexer": "ipython3",
   "version": "3.8.8"
  }
 },
 "nbformat": 4,
 "nbformat_minor": 5
}
